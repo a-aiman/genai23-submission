{
  "nbformat": 4,
  "nbformat_minor": 0,
  "metadata": {
    "colab": {
      "private_outputs": true,
      "provenance": []
    },
    "kernelspec": {
      "name": "python3",
      "display_name": "Python 3"
    },
    "language_info": {
      "name": "python"
    }
  },
  "cells": [
    {
      "cell_type": "markdown",
      "source": [
        "![image.png](data:image/png;base64,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)"
      ],
      "metadata": {
        "id": "AwuqK_kxQDK8"
      }
    },
    {
      "cell_type": "markdown",
      "source": [
        "# **Problem**\n",
        "\n",
        "---\n",
        "\n",
        "\n",
        "\n",
        "The QRDI Portal, while a valuable resource for researchers in Qatar, presents several challenges:\n",
        "Information overload: The platform contains a vast amount of information, making it difficult for researchers to quickly find what they are looking for.\n",
        "Difficult navigation: The user interface is not intuitive, and users need prior knowledge of the information architecture to navigate efficiently.\n",
        "Lack of personalization: The platform does not provide personalized recommendations for resources, tools, or collaborators.\n",
        "Limited collaboration support: The platform does not offer functionalities to facilitate collaboration among researchers.\n",
        "These limitations hinder research productivity and collaboration within the Qatari research ecosystem.\n",
        "# **Solution**\n",
        "\n",
        "---\n",
        "To address these challenges, we propose \"Qnect,\" a chatbot powered by ChatGPT. Qnect aims to simplify research workflows and facilitate collaboration within Qatar's research community.\n",
        "Features:\n",
        "Natural Language Processing: Qnect leverages the capabilities of ChatGPT to understand users' research interests and inquiries.\n",
        "Personalized Recommendations: Based on user input, Qnect recommends relevant research projects, datasets, intellectual property, publications, equipment, services, tools, and experts to collaborate with.\n",
        "Navigation Assistance: Qnect assists users in navigating the QRDI Portal by directing them to relevant information and resources.\n",
        "Collaboration Facilitation: Qnect facilitates communication and collaboration between researchers by connecting them with relevant experts and resources.\n",
        "# **Benefits:**\n",
        "\n",
        "---\n",
        "\n",
        "Enhanced Research Efficiency: Qnect reduces the time researchers spend searching for information, allowing them to focus on their research work.\n",
        "Improved Research Outcomes: Qnect enables researchers to identify valuable resources and collaborators, ultimately leading to better research outcomes.\n",
        "Increased Collaboration: Qnect fosters collaboration among researchers by connecting them with suitable partners, leading to more impactful research projects.\n",
        "Simplified User Experience: Qnect provides a user-friendly interface for interacting with the QRDI Portal, making it accessible to researchers with different levels of technical expertise.\n",
        "Qnect has the potential to significantly enhance the research experience for users of the QRDI Portal, ultimately contributing to the advancement of research and innovation in Qatar."
      ],
      "metadata": {
        "id": "W_zCOcmCeNDN"
      }
    },
    {
      "cell_type": "markdown",
      "source": [
        "# **1. Install Dependencies**"
      ],
      "metadata": {
        "id": "Sh4ngTKwO5OC"
      }
    },
    {
      "cell_type": "code",
      "source": [
        "'''\n",
        "This code installs the required Python packages using the `%pip` magic command.\n",
        "It installs specific versions of the `langchain`, `openai`, `pypdf`, `chromadb`, `pysqlite3-binary`, and `tiktoken` libraries.\n",
        "'''\n",
        "%pip install langchain==0.0.345 openai==1.2.3 pypdf chromadb pysqlite3-binary tiktoken\n",
        "\n",
        "__import__('pysqlite3')\n",
        "import sys\n",
        "sys.modules['sqlite3'] = sys.modules.pop('pysqlite3')"
      ],
      "metadata": {
        "id": "o2ImqJVdIgmX"
      },
      "execution_count": null,
      "outputs": []
    },
    {
      "cell_type": "markdown",
      "source": [
        "# **2. Set API access**"
      ],
      "metadata": {
        "id": "84ghsxFRPIA-"
      }
    },
    {
      "cell_type": "code",
      "source": [
        "'''\n",
        "This code sets environment variables for API access to Azure OpenAI.\n",
        "It includes the endpoint URL and API keys for both Azure OpenAI and generic OpenAI.\n",
        "'''\n",
        "%env AZURE_OPENAI_ENDPOINT=https://<your-endpoint>.openai.azure.com/\n",
        "%env AZURE_OPENAI_API_KEY=<YOUR_AZUREOPENAI_KEY>\n",
        "%env OPENAI_API_TYPE=azure\n",
        "%env OPENAI_API_KEY=<YOUR_AZUREOPENAI_KEY>\n",
        "%env OPENAI_API_VERSION=2023-05-15"
      ],
      "metadata": {
        "id": "tZ1WAJYMSqDY"
      },
      "execution_count": null,
      "outputs": []
    },
    {
      "cell_type": "markdown",
      "source": [
        "# **3. Load data**\n",
        "Data Type: URL; json"
      ],
      "metadata": {
        "id": "QJgnjKgJPLZW"
      }
    },
    {
      "cell_type": "code",
      "source": [
        "'''\n",
        "This section loads data from a URL using the `WebBaseLoader`.\n",
        " The data is then converted into a list of `Document` objects.\n",
        "'''\n",
        "from langchain_core.documents.base import Document\n",
        "from langchain.document_loaders import WebBaseLoader\n",
        "from langchain.text_splitter import RecursiveCharacterTextSplitter\n",
        "import json\n",
        "\n",
        "url = \"https://connect.qrdi.org.qa/api/resourceproject/?page=1&limit=48&typeId=4\"\n",
        "print(\"Loading data from URL:\", url)\n",
        "\n",
        "#Create a WebBaseLoader object data for loading data from the specified URL\n",
        "loader = WebBaseLoader(\"https://connect.qrdi.org.qa/api/resourceproject/?page=1&limit=48&typeId=4\")\n",
        "\n",
        "#loading the documents using the loader\n",
        "docs = loader.load()\n",
        "\n",
        "#parse the content of the first document as JSON and extract relevant data\n",
        "data = json.loads(docs[0].page_content)\n",
        "\n",
        "#creating the document objects for each item in the extracted data\n",
        "docs = [Document(page_content=json.dumps(item, indent=2)) for item in data['items']]\n",
        "\n",
        "\"\"\" Another Loading and Splitting Options \"\"\"\n",
        "#text_splitter = RecursiveCharacterTextSplitter(chunk_size=500,chunk_overlap=50)\n",
        "#docs = loader.load_and_split(text_splitter)\n",
        "\n",
        "\"\"\" Checking \"\"\"\n",
        "#len(docs)\n",
        "len(docs[0].page_content)\n",
        "print(docs[0].page_content[:500])\n",
        "#data = json.loads(docs[0].page_content)\n",
        "#print(data['items'])\n"
      ],
      "metadata": {
        "id": "2IqmNLOdh0bj"
      },
      "execution_count": null,
      "outputs": []
    },
    {
      "cell_type": "markdown",
      "source": [
        "# **Other Data Types (optional)**"
      ],
      "metadata": {
        "id": "M_fiGKd8PSUH"
      }
    },
    {
      "cell_type": "markdown",
      "source": [
        "### PDF loader"
      ],
      "metadata": {
        "id": "aLCuyxoRX0yD"
      }
    },
    {
      "cell_type": "code",
      "source": [
        "'''\n",
        "This section loads data from a PDF file using the `PyPDFLoader` and splits it into documents.\n",
        "'''\n",
        "'''from langchain.document_loaders import PyPDFLoader\n",
        "\n",
        "# Load the text of the Geneva Convention.\n",
        "loader = PyPDFLoader(\"https://ihl-databases.icrc.org/assets/treaties/365-GC-I-EN.pdf\")\n",
        "docs = loader.load_and_split()\n",
        "'''"
      ],
      "metadata": {
        "id": "Okn5v8U8W5oz"
      },
      "execution_count": null,
      "outputs": []
    },
    {
      "cell_type": "markdown",
      "source": [
        "### CSV loader"
      ],
      "metadata": {
        "id": "LkcgCiiAX7b-"
      }
    },
    {
      "cell_type": "code",
      "source": [
        "'''\n",
        "This code mounts Google Drive and loads data from a CSV file using the `CSVLoader`.\n",
        "'''\n",
        "'''\n",
        "from google.colab import drive\n",
        "drive.mount('/content/drive')\n",
        "'''"
      ],
      "metadata": {
        "id": "00qSOVOLnBlY"
      },
      "execution_count": null,
      "outputs": []
    },
    {
      "cell_type": "code",
      "source": [
        "'''\n",
        "from langchain.document_loaders.csv_loader import CSVLoader\n",
        "loader = CSVLoader(file_path=\"/content/drive/MyDrive/Hypo-08.csv\")\n",
        "\n",
        "docs = loader.load()\n",
        "docs = loader.load_and_split()\n",
        "print(docs)\n",
        "'''"
      ],
      "metadata": {
        "id": "Qyci7wbvm0s2"
      },
      "execution_count": null,
      "outputs": []
    },
    {
      "cell_type": "markdown",
      "source": [
        "### HTML loader"
      ],
      "metadata": {
        "id": "DKYRtr_8YF1y"
      }
    },
    {
      "cell_type": "code",
      "source": [
        "'''pip install unstructured'''"
      ],
      "metadata": {
        "id": "eLuBdz0lquKJ"
      },
      "execution_count": null,
      "outputs": []
    },
    {
      "cell_type": "code",
      "source": [
        "'''\n",
        "This code installs the `unstructured` library and loads data from an HTML file using `UnstructuredHTMLLoader` with text splitting.\n",
        "'''\n",
        "'''\n",
        "from langchain.document_loaders import UnstructuredHTMLLoader\n",
        "from langchain.text_splitter import RecursiveCharacterTextSplitter\n",
        "\n",
        "\n",
        "\n",
        "loader = UnstructuredHTMLLoader(\"/content/drive/MyDrive/QRDIsample2.html\")\n",
        "\n",
        "text_splitter = RecursiveCharacterTextSplitter(chunk_size=500,chunk_overlap=50)\n",
        "\n",
        "docs = loader.load_and_split(text_splitter)\n",
        "\n",
        "'''"
      ],
      "metadata": {
        "id": "abAqXqMwqzM_"
      },
      "execution_count": null,
      "outputs": []
    },
    {
      "cell_type": "markdown",
      "source": [
        "# 4. Create vector store **retriever**"
      ],
      "metadata": {
        "id": "zqJHbBSHPm5_"
      }
    },
    {
      "cell_type": "code",
      "source": [
        "'''\n",
        "This code creates a vector store retriever using the `Chroma` vector store with Azure OpenAI embeddings.\n",
        "'''\n",
        "from langchain.vectorstores import Chroma\n",
        "from langchain.embeddings import AzureOpenAIEmbeddings\n",
        "from chromadb.config import Settings\n",
        "\n",
        "#specify the deployment name for Azure OpenAI embeddings\n",
        "deployment_name = \"text-embedding-04\"\n",
        "\n",
        "# creating AzureOpenAIEmbeddings and Chroma vectorstore\n",
        "embeddings = AzureOpenAIEmbeddings(azure_deployment=deployment_name)\n",
        "vectorstore = Chroma.from_documents(\n",
        "    documents=docs,\n",
        "    embedding=embeddings,\n",
        "    client_settings=Settings()\n",
        ")\n",
        "\n",
        "# assigning vectorstore to retriever\n",
        "retriever = vectorstore.as_retriever()\n",
        "\n",
        "# Checking\n",
        "print(docs[0].page_content[:500])"
      ],
      "metadata": {
        "id": "3XllpyH3Qm2k"
      },
      "execution_count": null,
      "outputs": []
    },
    {
      "cell_type": "markdown",
      "source": [
        "# **5. Create model**"
      ],
      "metadata": {
        "id": "lszVmXqXPuz1"
      }
    },
    {
      "cell_type": "code",
      "source": [
        "'''\n",
        "This code creates a language model for chat using Azure OpenAI with a specified temperature and deployment name.\n",
        "'''\n",
        "from langchain.chat_models import AzureChatOpenAI\n",
        "\n",
        "temperature = 0.2\n",
        "deployment_name = \"gpt-model-04\"\n",
        "llm = AzureChatOpenAI(temperature=temperature, azure_deployment=deployment_name)"
      ],
      "metadata": {
        "id": "yxnYWdLKT0yJ"
      },
      "execution_count": null,
      "outputs": []
    },
    {
      "cell_type": "markdown",
      "source": [
        "# **6. Perform Q&A**"
      ],
      "metadata": {
        "id": "apXvF0g9Px0T"
      }
    },
    {
      "cell_type": "code",
      "source": [
        "'''\n",
        "This code sets up a question and answer pipeline using a prompt template, retriever, language model, and output parser.\n",
        "The last line invokes the Q&A process with a specific question.\n",
        "'''\n",
        "from langchain.prompts import PromptTemplate\n",
        "from langchain.schema.runnable import RunnablePassthrough\n",
        "from langchain.schema import StrOutputParser\n",
        "\n",
        "def format_docs(docs):\n",
        "    print(docs)\n",
        "    return \"\\n\\n\".join(doc.page_content for doc in docs)[:3700]\n",
        "\n",
        "# creating a prompt template for Question and Answer with specific context/question placeholders\n",
        "prompt_template = PromptTemplate.from_template(\"information on QRDI:{context} \\n\\n question:{question}\")\n",
        "\n",
        "# creating a chain of operations for Q&A using PromptTemplate, language model, and output parsing\n",
        "rag_chain = (\n",
        "    {\"context\": retriever | format_docs, \"question\": RunnablePassthrough()}\n",
        "    | prompt_template\n",
        "    | llm\n",
        "    | StrOutputParser()\n",
        ")\n",
        "\n",
        "# Testing (invoke) with a specific question\n",
        "question = \"can you recommend projects related on AR\\VR?\"\n",
        "rag_chain.invoke(question)"
      ],
      "metadata": {
        "id": "Qub5eWv2T3mp"
      },
      "execution_count": null,
      "outputs": []
    },
    {
      "cell_type": "markdown",
      "source": [
        "# **GUI Part**"
      ],
      "metadata": {
        "id": "mAsMac23RkPZ"
      }
    },
    {
      "cell_type": "code",
      "source": [
        "# installing dependencies\n",
        "!pip install gradio"
      ],
      "metadata": {
        "id": "fDQOKei2SqZH"
      },
      "execution_count": null,
      "outputs": []
    },
    {
      "cell_type": "code",
      "source": [
        "import gradio as gr\n",
        "import os\n",
        "import dotenv\n",
        "\n",
        "dotenv.load_dotenv()"
      ],
      "metadata": {
        "id": "hBRsAvjQRjLg"
      },
      "execution_count": null,
      "outputs": []
    },
    {
      "cell_type": "code",
      "source": [
        "# defining a function that takes in the prompt as a question\n",
        "# allowing to store history\n",
        "def produce_response(question, history):\n",
        "    \"\"\"\n",
        "      question: user input, normally it is a question asked\n",
        "      history: chat history\n",
        "    \"\"\"\n",
        "    return rag_chain.invoke(question)"
      ],
      "metadata": {
        "id": "Ea8KJ1ckSKWS"
      },
      "execution_count": null,
      "outputs": []
    },
    {
      "cell_type": "code",
      "source": [
        "# creating the chatbot UI within Jupyter using Gradio's ChatInterface\n",
        "# customizing GUI chatbot\n",
        "demo = gr.ChatInterface(\n",
        "  produce_response,\n",
        "  title=\"Qnect Chatbot \",\n",
        "  description=\"A chatbot for connecting research professionals and fostering collaboration.\",\n",
        "  theme=gr.themes.Soft(primary_hue=\"red\", secondary_hue=\"indigo\"),\n",
        "  submit_btn=\"Chat with me!\",\n",
        "  chatbot= gr.Chatbot(label=\"Qnect\", show_label=True, show_copy_button=True)\n",
        "\n",
        "  )\n",
        "\n",
        "# launching demo within Jupyter\n",
        "if __name__ == \"__main__\":\n",
        "    demo.launch()"
      ],
      "metadata": {
        "id": "R2xWRjQpSXhm"
      },
      "execution_count": null,
      "outputs": []
    }
  ]
}